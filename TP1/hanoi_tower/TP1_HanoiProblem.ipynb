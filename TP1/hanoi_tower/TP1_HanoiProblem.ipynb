{
  "cells": [
    {
      "cell_type": "markdown",
      "metadata": {
        "id": "ScXCN673tepc"
      },
      "source": [
        "# TP1: Algoritmos de búsqueda en Torre de Hanoi\n",
        "### Integrantes:\n",
        "* Emiliano Uriel Martino\n",
        "* Juan Pablo Hagata\n",
        "* Fausto Juárez Yélamos\n",
        "* Carolina Perez Omodeo\n",
        "* Diego José Araujo Arellano"
      ]
    },
    {
      "cell_type": "markdown",
      "metadata": {
        "id": "GI1cadV6ncYV"
      },
      "source": [
        "### 1. ¿Cuáles son los PEAS de este problema? (Performance, Environment, Actuators, Sensors)"
      ]
    },
    {
      "cell_type": "markdown",
      "metadata": {
        "id": "T9UldnIKoAqW"
      },
      "source": [
        "Los PEAS del problema son los siguientes:\n",
        "\n",
        "* **Performance**: La cantidad de movimientos realizados para ordenar la torre.\n",
        "* **Environment**: Las torres 1, 2 y 3, y las fichas a mover.\n",
        "* **Actuators**: La acción de mover una ficha de una torre hacia otra.\n",
        "* **Sensors**: La forma de detectar el estado de cada torre, tanto la cantidad de fichas como el orden en el que se encuentran.\n",
        "\n"
      ]
    },
    {
      "cell_type": "markdown",
      "metadata": {
        "id": "udE3psTondmD"
      },
      "source": [
        "### 2. ¿Cuáles son las propiedades del entorno de trabajo?"
      ]
    },
    {
      "cell_type": "markdown",
      "metadata": {
        "id": "fL09XufYwBbU"
      },
      "source": [
        "Realizamos la clasificación para las propiedades principales:\n",
        "\n",
        "* **Totalmente Observable** | ~~Parcialmente Observable~~: El problema se puede ver de forma completa.\n",
        "* **Determinista** | ~~Estocástico~~: No hay decisiones aleatorias.\n",
        "* **Episódico** | **Secuencial**: Puede considerarse de ambas formas, ya que puede tomarse una decisión, volver a sensar y tomarse otra; y también puede sensarse una sola vez y tomar todas las decisiones siguientes.\n",
        "* **Estático** | ~~Dinámico~~: El ambiente no cambia.\n",
        "* **Discreto** | ~~Continuo~~: Puedo moverme de un estado discreto a otro.\n",
        "* **Agente Individual** | ~~Multiagente~~: Un solo agente realiza todas las acciones."
      ]
    },
    {
      "cell_type": "markdown",
      "metadata": {
        "id": "kb2T0foVneAU"
      },
      "source": [
        "### 3. En el contexto de este problema, establezca cuáles son los: estado, espacio de estados, árbol de búsqueda, nodo de búsqueda, objetivo, acción y frontera."
      ]
    },
    {
      "cell_type": "markdown",
      "metadata": {
        "id": "4v6c05x6zhZd"
      },
      "source": [
        "Para la torre de Hanoi, las definiciones son las siguientes:\n",
        "* **Estado**: El estado es la posición de los discos.\n",
        "* **Espacio de estados**: El espacio de estados son todos los posibles estados, o sea, las posibles combinaciones válidas de discos.\n",
        "* **Árbol de búsqueda**: Son las secuencias posibles que llevan del estado inicial al final.\n",
        "* **Nodo de búsqueda**: Son los estados posibles alcanzables mediante las acciones posibles.\n",
        "* **Objetivo**: Mover todos los discos de la primera torre a la última.\n",
        "* **Acción**: Mover un disco de una torre a otra, sin que un disco más grande se ponga sobre uno más pequeño.\n",
        "* **Frontera**: Son los nodos pendientes de explorar.\n"
      ]
    },
    {
      "cell_type": "markdown",
      "metadata": {
        "id": "f_A19sbkneSi"
      },
      "source": [
        "### 4. Implemente algún método de búsqueda. Puedes elegir cualquiera menos búsqueda en anchura primero (el desarrollado en clase). Sos libre de elegir cualquiera de los vistos en clases, o inclusive buscar nuevos."
      ]
    },
    {
      "cell_type": "code",
      "execution_count": 1,
      "metadata": {
        "colab": {
          "base_uri": "https://localhost:8080/"
        },
        "id": "6ZLrTl2H5vAZ",
        "outputId": "971c4f32-9d63-45a5-ce77-921f56902d84"
      },
      "outputs": [],
      "source": [
        "# Paquetes y funciones necesarias para correr el código\n",
        "from hanoi_states import StatesHanoi, ActionHanoi, ProblemHanoi\n",
        "from tree_hanoi import NodeHanoi\n",
        "from aima import PriorityQueue\n",
        "import tracemalloc\n",
        "import time\n"
      ]
    },
    {
      "cell_type": "code",
      "execution_count": 2,
      "metadata": {
        "colab": {
          "base_uri": "https://localhost:8080/"
        },
        "id": "fCjI2gMG-hEX",
        "outputId": "f906c009-56cc-422b-833a-ec338cc8a928"
      },
      "outputs": [
        {
          "name": "stdout",
          "output_type": "stream",
          "text": [
            "Estado inicial: HanoiState: 5 4 3 2 1 |  | \n",
            "Estado objetivo: HanoiState:  |  | 5 4 3 2 1\n"
          ]
        }
      ],
      "source": [
        "# ---------------- Input Discos  ----------------\n",
        "\n",
        "# Cantidad de discos a considerar en el problema\n",
        "ndisks = 5\n",
        "\n",
        "# ---------------- Problema de Hanoi ----------------\n",
        "\n",
        "initial_state = StatesHanoi(list(range(ndisks, 0, -1)), [], [], max_disks=ndisks)\n",
        "goal_state = StatesHanoi([], [], list(range(ndisks, 0, -1)), max_disks=ndisks)\n",
        "\n",
        "# Se define el problema : ir de estado inicial al final y movimientos entre estados\n",
        "problem = ProblemHanoi(initial= initial_state, goal = goal_state)\n",
        "\n",
        "print(f\"Estado inicial: {initial_state}\")\n",
        "print(f\"Estado objetivo: {goal_state}\")"
      ]
    },
    {
      "cell_type": "code",
      "execution_count": 3,
      "metadata": {
        "id": "38oHaDW_BI_d"
      },
      "outputs": [],
      "source": [
        "# ---------------- Algoritmo de búsqueda en profundidad ----------------\n",
        "\n",
        "def dfs(problem):\n",
        "  frontier = []\n",
        "  frontier.append(NodeHanoi(problem.initial))\n",
        "  explored = set()\n",
        "\n",
        "  while len(frontier) != 0:\n",
        "    node = frontier.pop()\n",
        "    explored.add(node.state)\n",
        "    if problem.goal_test(node.state):\n",
        "      last_node = node\n",
        "      #print(\"Encontramos la solución!\")\n",
        "      break\n",
        "\n",
        "    for next_node in node.expand(problem):\n",
        "      if next_node.state not in explored:\n",
        "        frontier.append(next_node)\n",
        "  return last_node, frontier, explored\n"
      ]
    },
    {
      "cell_type": "code",
      "execution_count": 4,
      "metadata": {
        "colab": {
          "base_uri": "https://localhost:8080/"
        },
        "id": "eEyXN1t-FxXA",
        "outputId": "5d5da677-6b55-4702-ff25-a060122de283"
      },
      "outputs": [],
      "source": [
        "# ---------------- JSON para utilizar en simulador ----------------\n",
        "\n",
        "last_node, frontier, explored = dfs(problem)\n",
        "last_node.generate_solution_for_simulator() "
      ]
    },
    {
      "cell_type": "code",
      "execution_count": 5,
      "metadata": {
        "colab": {
          "base_uri": "https://localhost:8080/"
        },
        "id": "Np7RqjlAEQEU",
        "outputId": "c71d8f6d-3800-4142-8936-5798a37d19e3"
      },
      "outputs": [
        {
          "name": "stdout",
          "output_type": "stream",
          "text": [
            "Longitud del camino de la solución: 121.0\n",
            "Hubo 63 nodos de frontera y 122 nodos explorados.\n"
          ]
        }
      ],
      "source": [
        "# ---------------- Resultados del algoritmo DFS ----------------\n",
        "\n",
        "print(f\"Longitud del camino de la solución: {last_node.state.accumulated_cost}\")\n",
        "print(f\"Hubo {len(frontier)} nodos de frontera y {len(explored)} nodos explorados.\")\n"
      ]
    },
    {
      "cell_type": "markdown",
      "metadata": {
        "id": "zkThl-x6neoD"
      },
      "source": [
        "### 5. ¿Qué complejidad en tiempo y memoria tiene el algoritmo elegido?"
      ]
    },
    {
      "cell_type": "markdown",
      "metadata": {
        "id": "3MMEAks7JhLm"
      },
      "source": [
        "La complejidad en tiempo y en memoria para el algoritmo de búsqueda en profundidad (teóricamente) es la siguiente:\n",
        "* **Tiempo**: La complejidad temporal es de $O(V + E)$, donde:\n",
        "\n",
        "    - $V$ es el número de vértices.\n",
        "    \n",
        "    - $E$ es el número de aristas.\n",
        "\n",
        "\n",
        "* **Memoria**: En el peor de los casos  $O(V)$, consume muy poca memoria.\n",
        "\n",
        "No obstante, no encuentra la solución más eficiente.\n"
      ]
    },
    {
      "cell_type": "markdown",
      "metadata": {
        "id": "37os6hp6nlCz"
      },
      "source": [
        "### 6. A nivel implementación, ¿qué tiempo y memoria ocupa el algoritmo? (Se recomienda correr 10 veces y calcular promedio y desvío estándar de las métricas)."
      ]
    },
    {
      "cell_type": "markdown",
      "metadata": {
        "id": "sVt73CYvGcH2"
      },
      "source": [
        "##### Prueba del algoritmo en tiempo:"
      ]
    },
    {
      "cell_type": "code",
      "execution_count": 6,
      "metadata": {
        "colab": {
          "base_uri": "https://localhost:8080/"
        },
        "id": "LGrqP-mtGAhF",
        "outputId": "c10d7671-6fe4-4cb8-ce01-f2cbcc322ed2"
      },
      "outputs": [
        {
          "name": "stdout",
          "output_type": "stream",
          "text": [
            "8.01 ms ± 323 µs per loop (mean ± std. dev. of 10 runs, 100 loops each)\n"
          ]
        }
      ],
      "source": [
        "%%timeit -r 10 -n 100\n",
        "dfs(problem)"
      ]
    },
    {
      "cell_type": "markdown",
      "metadata": {
        "id": "uVC8zVM6GeZ0"
      },
      "source": [
        "##### Prueba del algoritmo en memoria:"
      ]
    },
    {
      "cell_type": "code",
      "execution_count": 7,
      "metadata": {
        "id": "v9f5WZBEGf7Y"
      },
      "outputs": [],
      "source": [
        "# ----------------Evaluación del rendimiento ----------------\n",
        "\n",
        "def evaluate_performance(problem, search_func, heuristic_func=None, **kwargs):\n",
        "    # Medir tiempo de ejecución\n",
        "    start_time = time.time()\n",
        "    if heuristic_func:\n",
        "        solution, frontier, reached = search_func(problem, heuristic_func, **kwargs)\n",
        "    else:\n",
        "        solution, frontier, reached = search_func(problem, **kwargs)\n",
        "    end_time = time.time()\n",
        "\n",
        "    # Medir uso de memoria\n",
        "    tracemalloc.start()\n",
        "    if heuristic_func:\n",
        "        solution, frontier, reached = search_func(problem, heuristic_func, **kwargs)\n",
        "    else:\n",
        "        solution, frontier, reached = search_func(problem, **kwargs)\n",
        "    _, memory_peak = tracemalloc.get_traced_memory()\n",
        "    memory_peak /= 1024*1024  # Convertir a MB\n",
        "    tracemalloc.stop()\n",
        "\n",
        "    execution_time = end_time - start_time\n",
        "    return execution_time, memory_peak, solution, frontier, reached\n"
      ]
    },
    {
      "cell_type": "code",
      "execution_count": 8,
      "metadata": {
        "colab": {
          "base_uri": "https://localhost:8080/"
        },
        "id": "DE1sUv24LyHZ",
        "outputId": "c731af41-4fbf-4865-e81f-0c38a5707302"
      },
      "outputs": [
        {
          "name": "stdout",
          "output_type": "stream",
          "text": [
            "Tiempo de ejecución: 0.01 segundos\n",
            "Máxima memoria ocupada: 0.25 MB\n"
          ]
        }
      ],
      "source": [
        "# ---------------- Resultados de evaluación de rendimiento de búsqueda en profundidad ----------------\n",
        "execution_time, memory_peak, solution, frontier, reached = evaluate_performance(problem, dfs)\n",
        "\n",
        "print(f\"Tiempo de ejecución: {execution_time:.2f} segundos\")\n",
        "print(f\"Máxima memoria ocupada: {memory_peak:.2f} MB\")\n"
      ]
    },
    {
      "cell_type": "markdown",
      "metadata": {
        "id": "pSIskQJ3nlWQ"
      },
      "source": [
        "### 7. Si la solución óptima es $2^k -1$ movimientos con $k$ igual al número de discos. Qué tan lejos está la solución del algoritmo implementado de esta solución óptima (se recomienda correr al menos $10$ veces y usar el promedio de trayecto usado)."
      ]
    },
    {
      "cell_type": "code",
      "execution_count": 9,
      "metadata": {
        "id": "U9a7oPW1nQJ8"
      },
      "outputs": [],
      "source": [
        "# ---------------- Función genérica para evaluar rendimiento y costo promedio ----------------\n",
        "def evaluate_performance_with_repeats(problem, search_func, repeats=10, heuristic_func=None, **kwargs):\n",
        "    # Medir tiempo de ejecución y uso de memoria\n",
        "    execution_time, memory_peak, solution, frontier, reached = evaluate_performance(problem, search_func, heuristic_func, **kwargs)\n",
        "\n",
        "    # Calcular el costo promedio de las soluciones encontradas\n",
        "    total_cost = 0\n",
        "    for _ in range(repeats):\n",
        "        if heuristic_func:\n",
        "            solution, _, _ = search_func(problem, heuristic_func, **kwargs)\n",
        "        else:\n",
        "            solution, _, _ = search_func(problem, **kwargs)\n",
        "        if solution:\n",
        "            total_cost += solution.state.accumulated_cost\n",
        "\n",
        "    if repeats > 0:\n",
        "        average_cost = total_cost / repeats\n",
        "    else:\n",
        "        average_cost = None\n",
        "\n",
        "    return execution_time, memory_peak, average_cost, solution, frontier, reached"
      ]
    },
    {
      "cell_type": "code",
      "execution_count": 10,
      "metadata": {
        "colab": {
          "base_uri": "https://localhost:8080/"
        },
        "id": "4CHwVXPTL2hd",
        "outputId": "d601e114-06ff-4731-9648-89c22672243c"
      },
      "outputs": [
        {
          "name": "stdout",
          "output_type": "stream",
          "text": [
            "Tiempo de ejecución: 0.01 segundos\n",
            "Máxima memoria ocupada: 0.25 MB\n",
            "Longitud promedio del camino de la solución: 121.0\n",
            "El costo promedio de 10 repeticiones es 121.0, mientras que el costo óptimo es de 31.\n"
          ]
        }
      ],
      "source": [
        "# ---------------- Resumen rendimiento de búsqueda en profundidad ----------------\n",
        "\n",
        "repeats = 10\n",
        "execution_time, memory_peak, average_cost, solution, frontier, reached = evaluate_performance_with_repeats(\n",
        "  problem, dfs, repeats)\n",
        "\n",
        "print(f\"Tiempo de ejecución: {execution_time:.2f} segundos\")\n",
        "print(f\"Máxima memoria ocupada: {memory_peak:.2f} MB\")\n",
        "if average_cost is not None:\n",
        "  print(f\"Longitud promedio del camino de la solución: {average_cost}\")\n",
        "else:\n",
        "  print(\"No se encontraron soluciones en las repeticiones.\")\n",
        "print(f\"El costo promedio de {repeats} repeticiones es {average_cost}, mientras que el costo óptimo es de {2**(ndisks)-1}.\")\n"
      ]
    },
    {
      "cell_type": "code",
      "execution_count": 11,
      "metadata": {},
      "outputs": [],
      "source": [
        "# ---------------- Metodo para imprimir el camino de la solucion ----------------\n",
        "def print_solution(solution):\n",
        "  if solution:\n",
        "    current_solution = solution\n",
        "    actions = []\n",
        "    nodes = []\n",
        "    while current_solution:\n",
        "      actions.append(current_solution.action)\n",
        "      nodes.append(current_solution.state)\n",
        "      current_solution = current_solution.parent\n",
        "    actions.reverse()\n",
        "    nodes.reverse()\n",
        "    for action, node in zip(actions, nodes):\n",
        "      print(action)\n",
        "      print(node)\n",
        "  else:\n",
        "    print(\"No se encontró solución.\")"
      ]
    },
    {
      "cell_type": "code",
      "execution_count": 12,
      "metadata": {},
      "outputs": [
        {
          "name": "stdout",
          "output_type": "stream",
          "text": [
            "None\n",
            "HanoiState: 5 4 3 2 1 |  | \n",
            "Move disk 1 from 1 to 3\n",
            "HanoiState: 5 4 3 2 |  | 1\n",
            "Move disk 1 from 3 to 2\n",
            "HanoiState: 5 4 3 2 | 1 | \n",
            "Move disk 2 from 1 to 3\n",
            "HanoiState: 5 4 3 | 1 | 2\n",
            "Move disk 1 from 2 to 3\n",
            "HanoiState: 5 4 3 |  | 2 1\n",
            "Move disk 1 from 3 to 1\n",
            "HanoiState: 5 4 3 1 |  | 2\n",
            "Move disk 2 from 3 to 2\n",
            "HanoiState: 5 4 3 1 | 2 | \n",
            "Move disk 1 from 1 to 3\n",
            "HanoiState: 5 4 3 | 2 | 1\n",
            "Move disk 1 from 3 to 2\n",
            "HanoiState: 5 4 3 | 2 1 | \n",
            "Move disk 3 from 1 to 3\n",
            "HanoiState: 5 4 | 2 1 | 3\n",
            "Move disk 1 from 2 to 3\n",
            "HanoiState: 5 4 | 2 | 3 1\n",
            "Move disk 1 from 3 to 1\n",
            "HanoiState: 5 4 1 | 2 | 3\n",
            "Move disk 2 from 2 to 3\n",
            "HanoiState: 5 4 1 |  | 3 2\n",
            "Move disk 1 from 1 to 3\n",
            "HanoiState: 5 4 |  | 3 2 1\n",
            "Move disk 1 from 3 to 2\n",
            "HanoiState: 5 4 | 1 | 3 2\n",
            "Move disk 2 from 3 to 1\n",
            "HanoiState: 5 4 2 | 1 | 3\n",
            "Move disk 1 from 2 to 3\n",
            "HanoiState: 5 4 2 |  | 3 1\n",
            "Move disk 1 from 3 to 1\n",
            "HanoiState: 5 4 2 1 |  | 3\n",
            "Move disk 3 from 3 to 2\n",
            "HanoiState: 5 4 2 1 | 3 | \n",
            "Move disk 1 from 1 to 3\n",
            "HanoiState: 5 4 2 | 3 | 1\n",
            "Move disk 1 from 3 to 2\n",
            "HanoiState: 5 4 2 | 3 1 | \n",
            "Move disk 2 from 1 to 3\n",
            "HanoiState: 5 4 | 3 1 | 2\n",
            "Move disk 1 from 2 to 3\n",
            "HanoiState: 5 4 | 3 | 2 1\n",
            "Move disk 1 from 3 to 1\n",
            "HanoiState: 5 4 1 | 3 | 2\n",
            "Move disk 2 from 3 to 2\n",
            "HanoiState: 5 4 1 | 3 2 | \n",
            "Move disk 1 from 1 to 3\n",
            "HanoiState: 5 4 | 3 2 | 1\n",
            "Move disk 1 from 3 to 2\n",
            "HanoiState: 5 4 | 3 2 1 | \n",
            "Move disk 4 from 1 to 3\n",
            "HanoiState: 5 | 3 2 1 | 4\n",
            "Move disk 1 from 2 to 3\n",
            "HanoiState: 5 | 3 2 | 4 1\n",
            "Move disk 1 from 3 to 1\n",
            "HanoiState: 5 1 | 3 2 | 4\n",
            "Move disk 2 from 2 to 3\n",
            "HanoiState: 5 1 | 3 | 4 2\n",
            "Move disk 1 from 1 to 3\n",
            "HanoiState: 5 | 3 | 4 2 1\n",
            "Move disk 1 from 3 to 2\n",
            "HanoiState: 5 | 3 1 | 4 2\n",
            "Move disk 2 from 3 to 1\n",
            "HanoiState: 5 2 | 3 1 | 4\n",
            "Move disk 1 from 2 to 3\n",
            "HanoiState: 5 2 | 3 | 4 1\n",
            "Move disk 1 from 3 to 1\n",
            "HanoiState: 5 2 1 | 3 | 4\n",
            "Move disk 3 from 2 to 3\n",
            "HanoiState: 5 2 1 |  | 4 3\n",
            "Move disk 1 from 1 to 3\n",
            "HanoiState: 5 2 |  | 4 3 1\n",
            "Move disk 1 from 3 to 2\n",
            "HanoiState: 5 2 | 1 | 4 3\n",
            "Move disk 2 from 1 to 3\n",
            "HanoiState: 5 | 1 | 4 3 2\n",
            "Move disk 1 from 2 to 3\n",
            "HanoiState: 5 |  | 4 3 2 1\n",
            "Move disk 1 from 3 to 1\n",
            "HanoiState: 5 1 |  | 4 3 2\n",
            "Move disk 2 from 3 to 2\n",
            "HanoiState: 5 1 | 2 | 4 3\n",
            "Move disk 1 from 1 to 3\n",
            "HanoiState: 5 | 2 | 4 3 1\n",
            "Move disk 1 from 3 to 2\n",
            "HanoiState: 5 | 2 1 | 4 3\n",
            "Move disk 3 from 3 to 1\n",
            "HanoiState: 5 3 | 2 1 | 4\n",
            "Move disk 1 from 2 to 3\n",
            "HanoiState: 5 3 | 2 | 4 1\n",
            "Move disk 1 from 3 to 1\n",
            "HanoiState: 5 3 1 | 2 | 4\n",
            "Move disk 2 from 2 to 3\n",
            "HanoiState: 5 3 1 |  | 4 2\n",
            "Move disk 1 from 1 to 3\n",
            "HanoiState: 5 3 |  | 4 2 1\n",
            "Move disk 1 from 3 to 2\n",
            "HanoiState: 5 3 | 1 | 4 2\n",
            "Move disk 2 from 3 to 1\n",
            "HanoiState: 5 3 2 | 1 | 4\n",
            "Move disk 1 from 2 to 3\n",
            "HanoiState: 5 3 2 |  | 4 1\n",
            "Move disk 1 from 3 to 1\n",
            "HanoiState: 5 3 2 1 |  | 4\n",
            "Move disk 4 from 3 to 2\n",
            "HanoiState: 5 3 2 1 | 4 | \n",
            "Move disk 1 from 1 to 3\n",
            "HanoiState: 5 3 2 | 4 | 1\n",
            "Move disk 1 from 3 to 2\n",
            "HanoiState: 5 3 2 | 4 1 | \n",
            "Move disk 2 from 1 to 3\n",
            "HanoiState: 5 3 | 4 1 | 2\n",
            "Move disk 1 from 2 to 3\n",
            "HanoiState: 5 3 | 4 | 2 1\n",
            "Move disk 1 from 3 to 1\n",
            "HanoiState: 5 3 1 | 4 | 2\n",
            "Move disk 2 from 3 to 2\n",
            "HanoiState: 5 3 1 | 4 2 | \n",
            "Move disk 1 from 1 to 3\n",
            "HanoiState: 5 3 | 4 2 | 1\n",
            "Move disk 1 from 3 to 2\n",
            "HanoiState: 5 3 | 4 2 1 | \n",
            "Move disk 3 from 1 to 3\n",
            "HanoiState: 5 | 4 2 1 | 3\n",
            "Move disk 1 from 2 to 3\n",
            "HanoiState: 5 | 4 2 | 3 1\n",
            "Move disk 1 from 3 to 1\n",
            "HanoiState: 5 1 | 4 2 | 3\n",
            "Move disk 2 from 2 to 3\n",
            "HanoiState: 5 1 | 4 | 3 2\n",
            "Move disk 1 from 1 to 3\n",
            "HanoiState: 5 | 4 | 3 2 1\n",
            "Move disk 1 from 3 to 2\n",
            "HanoiState: 5 | 4 1 | 3 2\n",
            "Move disk 2 from 3 to 1\n",
            "HanoiState: 5 2 | 4 1 | 3\n",
            "Move disk 1 from 2 to 3\n",
            "HanoiState: 5 2 | 4 | 3 1\n",
            "Move disk 1 from 3 to 1\n",
            "HanoiState: 5 2 1 | 4 | 3\n",
            "Move disk 3 from 3 to 2\n",
            "HanoiState: 5 2 1 | 4 3 | \n",
            "Move disk 1 from 1 to 3\n",
            "HanoiState: 5 2 | 4 3 | 1\n",
            "Move disk 1 from 3 to 2\n",
            "HanoiState: 5 2 | 4 3 1 | \n",
            "Move disk 2 from 1 to 3\n",
            "HanoiState: 5 | 4 3 1 | 2\n",
            "Move disk 1 from 2 to 3\n",
            "HanoiState: 5 | 4 3 | 2 1\n",
            "Move disk 1 from 3 to 1\n",
            "HanoiState: 5 1 | 4 3 | 2\n",
            "Move disk 2 from 3 to 2\n",
            "HanoiState: 5 1 | 4 3 2 | \n",
            "Move disk 1 from 1 to 3\n",
            "HanoiState: 5 | 4 3 2 | 1\n",
            "Move disk 1 from 3 to 2\n",
            "HanoiState: 5 | 4 3 2 1 | \n",
            "Move disk 5 from 1 to 3\n",
            "HanoiState:  | 4 3 2 1 | 5\n",
            "Move disk 1 from 2 to 3\n",
            "HanoiState:  | 4 3 2 | 5 1\n",
            "Move disk 1 from 3 to 1\n",
            "HanoiState: 1 | 4 3 2 | 5\n",
            "Move disk 2 from 2 to 3\n",
            "HanoiState: 1 | 4 3 | 5 2\n",
            "Move disk 1 from 1 to 3\n",
            "HanoiState:  | 4 3 | 5 2 1\n",
            "Move disk 1 from 3 to 2\n",
            "HanoiState:  | 4 3 1 | 5 2\n",
            "Move disk 2 from 3 to 1\n",
            "HanoiState: 2 | 4 3 1 | 5\n",
            "Move disk 1 from 2 to 3\n",
            "HanoiState: 2 | 4 3 | 5 1\n",
            "Move disk 1 from 3 to 1\n",
            "HanoiState: 2 1 | 4 3 | 5\n",
            "Move disk 3 from 2 to 3\n",
            "HanoiState: 2 1 | 4 | 5 3\n",
            "Move disk 1 from 1 to 3\n",
            "HanoiState: 2 | 4 | 5 3 1\n",
            "Move disk 1 from 3 to 2\n",
            "HanoiState: 2 | 4 1 | 5 3\n",
            "Move disk 2 from 1 to 3\n",
            "HanoiState:  | 4 1 | 5 3 2\n",
            "Move disk 1 from 2 to 3\n",
            "HanoiState:  | 4 | 5 3 2 1\n",
            "Move disk 1 from 3 to 1\n",
            "HanoiState: 1 | 4 | 5 3 2\n",
            "Move disk 2 from 3 to 2\n",
            "HanoiState: 1 | 4 2 | 5 3\n",
            "Move disk 1 from 1 to 3\n",
            "HanoiState:  | 4 2 | 5 3 1\n",
            "Move disk 1 from 3 to 2\n",
            "HanoiState:  | 4 2 1 | 5 3\n",
            "Move disk 3 from 3 to 1\n",
            "HanoiState: 3 | 4 2 1 | 5\n",
            "Move disk 1 from 2 to 3\n",
            "HanoiState: 3 | 4 2 | 5 1\n",
            "Move disk 1 from 3 to 1\n",
            "HanoiState: 3 1 | 4 2 | 5\n",
            "Move disk 2 from 2 to 3\n",
            "HanoiState: 3 1 | 4 | 5 2\n",
            "Move disk 1 from 1 to 3\n",
            "HanoiState: 3 | 4 | 5 2 1\n",
            "Move disk 1 from 3 to 2\n",
            "HanoiState: 3 | 4 1 | 5 2\n",
            "Move disk 2 from 3 to 1\n",
            "HanoiState: 3 2 | 4 1 | 5\n",
            "Move disk 1 from 2 to 3\n",
            "HanoiState: 3 2 | 4 | 5 1\n",
            "Move disk 1 from 3 to 1\n",
            "HanoiState: 3 2 1 | 4 | 5\n",
            "Move disk 4 from 2 to 3\n",
            "HanoiState: 3 2 1 |  | 5 4\n",
            "Move disk 1 from 1 to 3\n",
            "HanoiState: 3 2 |  | 5 4 1\n",
            "Move disk 1 from 3 to 2\n",
            "HanoiState: 3 2 | 1 | 5 4\n",
            "Move disk 2 from 1 to 3\n",
            "HanoiState: 3 | 1 | 5 4 2\n",
            "Move disk 1 from 2 to 3\n",
            "HanoiState: 3 |  | 5 4 2 1\n",
            "Move disk 1 from 3 to 1\n",
            "HanoiState: 3 1 |  | 5 4 2\n",
            "Move disk 2 from 3 to 2\n",
            "HanoiState: 3 1 | 2 | 5 4\n",
            "Move disk 1 from 1 to 3\n",
            "HanoiState: 3 | 2 | 5 4 1\n",
            "Move disk 1 from 3 to 2\n",
            "HanoiState: 3 | 2 1 | 5 4\n",
            "Move disk 3 from 1 to 3\n",
            "HanoiState:  | 2 1 | 5 4 3\n",
            "Move disk 1 from 2 to 3\n",
            "HanoiState:  | 2 | 5 4 3 1\n",
            "Move disk 1 from 3 to 1\n",
            "HanoiState: 1 | 2 | 5 4 3\n",
            "Move disk 2 from 2 to 3\n",
            "HanoiState: 1 |  | 5 4 3 2\n",
            "Move disk 1 from 1 to 3\n",
            "HanoiState:  |  | 5 4 3 2 1\n"
          ]
        }
      ],
      "source": [
        "# ---------------- Imprimo la solucion de DFS ----------------\n",
        "print_solution(solution)"
      ]
    },
    {
      "cell_type": "markdown",
      "metadata": {},
      "source": [
        "### Anexo: Implementación y resultados de evaluación de otros algoritmos de búsqueda"
      ]
    },
    {
      "cell_type": "markdown",
      "metadata": {},
      "source": [
        "#### Algoritmos de búsqueda no informada"
      ]
    },
    {
      "cell_type": "markdown",
      "metadata": {},
      "source": [
        "##### Algoritmo de búsqueda en profundidad limitada"
      ]
    },
    {
      "cell_type": "code",
      "execution_count": 13,
      "metadata": {
        "id": "hwFHxSWxKaoi"
      },
      "outputs": [],
      "source": [
        "# ---------------- Algoritmo de búsqueda en profundidad limitada ----------------\n",
        "\n",
        "def depth_limited_search(problem, limit):\n",
        "  def recursive_dls(node, problem, limit):\n",
        "    nonlocal explored, reached\n",
        "    explored.add(node.state)\n",
        "    if problem.goal_test(node.state):\n",
        "      return node\n",
        "    elif limit == 0:\n",
        "      return 'cutoff'\n",
        "    else:\n",
        "      cutoff_ocurred = False\n",
        "      for child in node.expand(problem):\n",
        "        if child.state not in reached:\n",
        "          reached.add(child.state)\n",
        "          result = recursive_dls(child, problem, limit - 1)\n",
        "          if result == 'cutoff':\n",
        "            cutoff_ocurred = True\n",
        "          elif result is not None:\n",
        "            return result\n",
        "      return 'cutoff' if cutoff_ocurred else None\n",
        "\n",
        "  explored = set()\n",
        "  reached = set()\n",
        "  last_node = recursive_dls(NodeHanoi(problem.initial), problem, limit)\n",
        "  return last_node, explored, reached\n"
      ]
    },
    {
      "cell_type": "code",
      "execution_count": 14,
      "metadata": {
        "colab": {
          "base_uri": "https://localhost:8080/"
        },
        "id": "uix0ZUQ4mR6K",
        "outputId": "f466d8ab-3eb7-4586-8b44-44d748fba37b"
      },
      "outputs": [
        {
          "name": "stdout",
          "output_type": "stream",
          "text": [
            "Longitud del camino de la solución: 65.0\n",
            "Hubo 164 nodos alcanzados y 165 nodos explorados.\n",
            "CPU times: total: 0 ns\n",
            "Wall time: 23.6 ms\n"
          ]
        }
      ],
      "source": [
        "%%time\n",
        "last_node, explored, reached = depth_limited_search(problem, 65)\n",
        "if isinstance(last_node, NodeHanoi):\n",
        "  print(f\"Longitud del camino de la solución: {last_node.state.accumulated_cost}\")\n",
        "  print(f\"Hubo {len(reached)} nodos alcanzados y {len(explored)} nodos explorados.\")\n",
        "elif last_node == 'cutoff':\n",
        "  print(\"Se alcanzó el límite de profundidad sin encontrar una solución.\")\n",
        "  print(f\"Hubo {len(reached)} nodos alcanzados y {len(explored)} nodos explorados.\")\n",
        "else:\n",
        "  print(\"No se encontró solución.\")\n",
        "  print(f\"Hubo {len(reached)} nodos alcanzados y {len(explored)} nodos explorados.\")"
      ]
    },
    {
      "cell_type": "code",
      "execution_count": 15,
      "metadata": {
        "colab": {
          "base_uri": "https://localhost:8080/"
        },
        "id": "-geyfcoEaKit",
        "outputId": "c8c8b9ca-5cb5-401b-a1de-02950dd5bd51"
      },
      "outputs": [
        {
          "name": "stdout",
          "output_type": "stream",
          "text": [
            "Tiempo de ejecución: 0.02 segundos\n",
            "Máxima memoria ocupada: 0.36 MB\n"
          ]
        }
      ],
      "source": [
        "# ---------------- Evaluar rendimiento de búsqueda en profundidad limitada ----------------\n",
        "execution_time, memory_peak, solution, frontier, reached = evaluate_performance(problem, depth_limited_search, limit=65)\n",
        "\n",
        "print(f\"Tiempo de ejecución: {execution_time:.2f} segundos\")\n",
        "print(f\"Máxima memoria ocupada: {memory_peak:.2f} MB\")"
      ]
    },
    {
      "cell_type": "code",
      "execution_count": 16,
      "metadata": {
        "colab": {
          "base_uri": "https://localhost:8080/"
        },
        "id": "99Evx9KmaLnI",
        "outputId": "bba90493-3fd7-409f-ed4d-35c4713c6136"
      },
      "outputs": [
        {
          "name": "stdout",
          "output_type": "stream",
          "text": [
            "Tiempo de ejecución: 0.01 segundos\n",
            "Máxima memoria ocupada: 0.34 MB\n",
            "Longitud promedio del camino de la solución: 65.0\n",
            "El costo promedio de 10 repeticiones es 65.0, mientras que el costo óptimo es de 31.\n"
          ]
        }
      ],
      "source": [
        "# ---------------- Evaluar rendimiento de busqueda en profundidad limitada ----------------\n",
        "repeats = 10\n",
        "execution_time, memory_peak, average_cost, solution, frontier, reached = evaluate_performance_with_repeats(\n",
        "  problem, depth_limited_search, repeats, limit=65)\n",
        "\n",
        "print(f\"Tiempo de ejecución: {execution_time:.2f} segundos\")\n",
        "print(f\"Máxima memoria ocupada: {memory_peak:.2f} MB\")\n",
        "if average_cost is not None:\n",
        "  print(f\"Longitud promedio del camino de la solución: {average_cost}\")\n",
        "else:\n",
        "  print(\"No se encontraron soluciones en las repeticiones.\")\n",
        "print(f\"El costo promedio de {repeats} repeticiones es {average_cost}, mientras que el costo óptimo es de {2**(ndisks)-1}.\")"
      ]
    },
    {
      "cell_type": "markdown",
      "metadata": {},
      "source": [
        "##### Algoritmo de busqueda en profundidad limitada con profundidad iterativa"
      ]
    },
    {
      "cell_type": "code",
      "execution_count": 17,
      "metadata": {
        "id": "A1uO1XRQym0t"
      },
      "outputs": [],
      "source": [
        "# ---------------- Algoritmo de búsqueda en profundidad limitada con profundidad iterativa ----------------\n",
        "def iterative_deepening_search(problem, max_depth=1000):\n",
        "  for depth in range(0, max_depth):\n",
        "    result, explored, reached = depth_limited_search(problem, depth)\n",
        "    if result != 'cutoff':\n",
        "      return result, explored, reached\n",
        "  return None, explored, reached"
      ]
    },
    {
      "cell_type": "code",
      "execution_count": 18,
      "metadata": {
        "colab": {
          "base_uri": "https://localhost:8080/"
        },
        "id": "OztG6oag1_2T",
        "outputId": "6ed020ac-132f-43d5-fc32-4e56767ad699"
      },
      "outputs": [
        {
          "name": "stdout",
          "output_type": "stream",
          "text": [
            "Longitud del camino de la solución: 65.0\n",
            "Hubo 164 nodos alcanzados y 165 nodos explorados.\n",
            "CPU times: total: 219 ms\n",
            "Wall time: 405 ms\n"
          ]
        }
      ],
      "source": [
        "%%time\n",
        "last_node, explored, reached = iterative_deepening_search(problem, 1000)\n",
        "if isinstance(last_node, NodeHanoi):\n",
        "  print(f\"Longitud del camino de la solución: {last_node.state.accumulated_cost}\")\n",
        "  print(f\"Hubo {len(reached)} nodos alcanzados y {len(explored)} nodos explorados.\")\n",
        "else:\n",
        "  print(\"No se encontró solución.\")\n",
        "  print(f\"Hubo {len(reached)} nodos alcanzados y {len(explored)} nodos explorados.\")"
      ]
    },
    {
      "cell_type": "code",
      "execution_count": 19,
      "metadata": {
        "colab": {
          "base_uri": "https://localhost:8080/"
        },
        "id": "kP08UI5Oad_j",
        "outputId": "c1c9e49d-1342-47c4-f8de-22adf1c34f06"
      },
      "outputs": [
        {
          "name": "stdout",
          "output_type": "stream",
          "text": [
            "Tiempo de ejecución: 0.43 segundos\n",
            "Máxima memoria ocupada: 1.42 MB\n"
          ]
        }
      ],
      "source": [
        "# ---------------- Evaluar rendimiento de búsqueda en profundidad limitada con profundidad iterativa ----------------\n",
        "execution_time, memory_peak, solution, frontier, reached = evaluate_performance(problem, iterative_deepening_search, max_depth=1000)\n",
        "\n",
        "print(f\"Tiempo de ejecución: {execution_time:.2f} segundos\")\n",
        "print(f\"Máxima memoria ocupada: {memory_peak:.2f} MB\")"
      ]
    },
    {
      "cell_type": "code",
      "execution_count": 20,
      "metadata": {
        "colab": {
          "base_uri": "https://localhost:8080/"
        },
        "id": "KSPdCgeJagD7",
        "outputId": "8a20cf65-bd50-409c-8685-ecdf2f1d287e"
      },
      "outputs": [
        {
          "name": "stdout",
          "output_type": "stream",
          "text": [
            "Tiempo de ejecución: 0.38 segundos\n",
            "Máxima memoria ocupada: 1.06 MB\n",
            "Longitud promedio del camino de la solución: 65.0\n",
            "El costo promedio de 10 repeticiones es 65.0, mientras que el costo óptimo es de 31.\n"
          ]
        }
      ],
      "source": [
        "# ---------------- Evaluar rendimiento de busqueda en profundidad limitada con profundidad iterativa ----------------\n",
        "repeats = 10\n",
        "execution_time, memory_peak, average_cost, solution, frontier, reached = evaluate_performance_with_repeats(\n",
        "  problem, iterative_deepening_search, repeats, max_depth=1000)\n",
        "\n",
        "print(f\"Tiempo de ejecución: {execution_time:.2f} segundos\")\n",
        "print(f\"Máxima memoria ocupada: {memory_peak:.2f} MB\")\n",
        "if average_cost is not None:\n",
        "  print(f\"Longitud promedio del camino de la solución: {average_cost}\")\n",
        "else:\n",
        "  print(\"No se encontraron soluciones en las repeticiones.\")\n",
        "print(f\"El costo promedio de {repeats} repeticiones es {average_cost}, mientras que el costo óptimo es de {2**(ndisks)-1}.\")"
      ]
    },
    {
      "cell_type": "markdown",
      "metadata": {},
      "source": [
        "#### Algoritmos de búsqueda informada"
      ]
    },
    {
      "cell_type": "markdown",
      "metadata": {},
      "source": [
        "##### Búsqueda voraz (greedy)"
      ]
    },
    {
      "cell_type": "code",
      "execution_count": 21,
      "metadata": {
        "id": "O40l9m5s_Sju"
      },
      "outputs": [],
      "source": [
        "# ---------------- Algoritmo de búsqueda informada, búsqueda voraz (greedy) primero el mejor ----------------\n",
        "\n",
        "def hanoi_heuristic(node, goal_state):\n",
        "  # Heurística: cuenta los discos en la posición correcta (rod correcta)\n",
        "  return -sum(1 for rod, goal_rod in zip(node.state.rods, goal_state.rods) if rod == goal_rod)\n",
        "\n",
        "def greedy_best_first_graph_search(problem, heuristic_func):\n",
        "    node = NodeHanoi(problem.initial)\n",
        "    if problem.goal_test(node.state):\n",
        "        return node, [], set()\n",
        "\n",
        "    frontier = PriorityQueue('min', f=lambda n: heuristic_func(n, problem.goal))\n",
        "    frontier.append(node)\n",
        "    reached = set()\n",
        "    reached.add(tuple(map(tuple, node.state.rods)))\n",
        "\n",
        "    while frontier:\n",
        "        node = frontier.pop()\n",
        "        if problem.goal_test(node.state):\n",
        "            return node, frontier, reached\n",
        "\n",
        "        for action in problem.actions(node.state):\n",
        "            child = node.child_node(problem, action)\n",
        "            state_tuple = tuple(map(tuple, child.state.rods))\n",
        "            if state_tuple not in reached:\n",
        "                reached.add(state_tuple)\n",
        "                frontier.append(child)\n",
        "\n",
        "    return None, frontier, reached"
      ]
    },
    {
      "cell_type": "code",
      "execution_count": 22,
      "metadata": {
        "colab": {
          "base_uri": "https://localhost:8080/"
        },
        "id": "l_zus5Jl_9y2",
        "outputId": "4620be90-f3a6-4d98-bf4b-8dc9b628324f"
      },
      "outputs": [
        {
          "name": "stdout",
          "output_type": "stream",
          "text": [
            "Longitud del camino de la solución: 31.0\n",
            "Hubo 18 nodos en la frontera y 213 nodos explorados.\n"
          ]
        }
      ],
      "source": [
        "solution, frontier, reached = greedy_best_first_graph_search(problem, hanoi_heuristic)\n",
        "\n",
        "if isinstance(solution, NodeHanoi):\n",
        "  print(f\"Longitud del camino de la solución: {solution.state.accumulated_cost}\")\n",
        "  print(f\"Hubo {len(frontier)} nodos en la frontera y {len(reached)} nodos explorados.\")\n",
        "else:\n",
        "  print(\"No se encontró solución.\")\n",
        "  print(f\"Hubo {len(reached)} nodos alcanzados y {len(explored)} nodos explorados.\")"
      ]
    },
    {
      "cell_type": "code",
      "execution_count": 23,
      "metadata": {
        "colab": {
          "base_uri": "https://localhost:8080/"
        },
        "id": "IL7l-zl6arOq",
        "outputId": "85b63e6d-d1b9-433e-f9b2-fd07ef10c0e2"
      },
      "outputs": [
        {
          "name": "stdout",
          "output_type": "stream",
          "text": [
            "Tiempo de ejecución: 0.01 segundos\n",
            "Máxima memoria ocupada: 0.24 MB\n"
          ]
        }
      ],
      "source": [
        "# ---------------- Evaluar rendimiento de búsqueda informada, búsqueda voraz (greedy) primero el mejor ----------------\n",
        "execution_time, memory_peak, solution, frontier, reached = evaluate_performance(problem, greedy_best_first_graph_search, heuristic_func=hanoi_heuristic)\n",
        "\n",
        "print(f\"Tiempo de ejecución: {execution_time:.2f} segundos\")\n",
        "print(f\"Máxima memoria ocupada: {memory_peak:.2f} MB\")"
      ]
    },
    {
      "cell_type": "code",
      "execution_count": 24,
      "metadata": {
        "colab": {
          "base_uri": "https://localhost:8080/"
        },
        "id": "VD0B8_FoatdN",
        "outputId": "d7e01f9c-96cb-43fe-a3e8-bd456da78074"
      },
      "outputs": [
        {
          "name": "stdout",
          "output_type": "stream",
          "text": [
            "Tiempo de ejecución: 0.01 segundos\n",
            "Máxima memoria ocupada: 0.22 MB\n",
            "Longitud promedio del camino de la solución: 31.0\n",
            "El costo promedio de 10 repeticiones es 31.0, mientras que el costo óptimo es de 31.\n"
          ]
        }
      ],
      "source": [
        "# ---------------- Evaluar rendimiento de búsqueda informada, búsqueda voraz (greedy) primero el mejor ----------------\n",
        "repeats = 10\n",
        "execution_time, memory_peak, average_cost, solution, frontier, reached = evaluate_performance_with_repeats(\n",
        "  problem, greedy_best_first_graph_search, repeats, heuristic_func=hanoi_heuristic)\n",
        "\n",
        "print(f\"Tiempo de ejecución: {execution_time:.2f} segundos\")\n",
        "print(f\"Máxima memoria ocupada: {memory_peak:.2f} MB\")\n",
        "if average_cost is not None:\n",
        "  print(f\"Longitud promedio del camino de la solución: {average_cost}\")\n",
        "else:\n",
        "  print(\"No se encontraron soluciones en las repeticiones.\")\n",
        "print(f\"El costo promedio de {repeats} repeticiones es {average_cost}, mientras que el costo óptimo es de {2**(ndisks)-1}.\")"
      ]
    },
    {
      "cell_type": "markdown",
      "metadata": {},
      "source": [
        "##### Búsqueda A*"
      ]
    },
    {
      "cell_type": "code",
      "execution_count": 25,
      "metadata": {
        "id": "L_KrbUTlBciQ"
      },
      "outputs": [],
      "source": [
        "# ---------------- Algoritmo de búsqueda informada, búsqueda A* ----------------\n",
        "def hanoi_heuristic(node, goal_state):\n",
        "    return -sum(1 for rod, goal_rod in zip(node.state.rods, goal_state.rods) if rod == goal_rod)\n",
        "\n",
        "def astar_search(problem, heuristic_func):\n",
        "  def f(new_node):\n",
        "    return new_node.path_cost + heuristic_func(new_node, problem.goal)\n",
        "\n",
        "  node = NodeHanoi(problem.initial)\n",
        "  if problem.goal_test(node.state):\n",
        "    return node, [], set()\n",
        "\n",
        "  frontier = PriorityQueue('min', f=f)\n",
        "  frontier.append(node)\n",
        "  reached = set()\n",
        "  reached.add(tuple(map(tuple, node.state.rods)))\n",
        "  state_cost = {tuple(map(tuple, node.state.rods)): f(node)}\n",
        "\n",
        "  while frontier:\n",
        "    node = frontier.pop()\n",
        "    if problem.goal_test(node.state):\n",
        "      return node, frontier, reached\n",
        "\n",
        "    for action in problem.actions(node.state):\n",
        "      child = node.child_node(problem, action)\n",
        "      state_tuple = tuple(map(tuple, child.state.rods))\n",
        "      child_cost = f(child)\n",
        "\n",
        "      if state_tuple not in reached or child_cost < state_cost[state_tuple]:\n",
        "        reached.add(state_tuple)\n",
        "        frontier.append(child)\n",
        "        state_cost[state_tuple] = child_cost\n",
        "\n",
        "  return None, frontier, reached"
      ]
    },
    {
      "cell_type": "code",
      "execution_count": 26,
      "metadata": {
        "colab": {
          "base_uri": "https://localhost:8080/"
        },
        "id": "zCgl8hkTCElC",
        "outputId": "4c5fa173-9cce-480c-c790-d92b1d6d9258"
      },
      "outputs": [
        {
          "name": "stdout",
          "output_type": "stream",
          "text": [
            "Longitud del camino de la solución: 31.0\n",
            "Hubo 19 nodos en la frontera y 219 nodos explorados.\n",
            "CPU times: total: 15.6 ms\n",
            "Wall time: 16.4 ms\n"
          ]
        }
      ],
      "source": [
        "%%time\n",
        "solution, frontier, reached = astar_search(problem, hanoi_heuristic)\n",
        "\n",
        "if isinstance(solution, NodeHanoi):\n",
        "  print(f\"Longitud del camino de la solución: {solution.state.accumulated_cost}\")\n",
        "  print(f\"Hubo {len(frontier)} nodos en la frontera y {len(reached)} nodos explorados.\")\n",
        "else:\n",
        "  print(\"No se encontró solución.\")\n",
        "  print(f\"Hubo {len(reached)} nodos alcanzados y {len(explored)} nodos explorados.\")\n"
      ]
    },
    {
      "cell_type": "code",
      "execution_count": 27,
      "metadata": {
        "colab": {
          "base_uri": "https://localhost:8080/"
        },
        "id": "pTwLWRUNbBVS",
        "outputId": "a103068c-159d-4944-adb3-4486989fbc96"
      },
      "outputs": [
        {
          "name": "stdout",
          "output_type": "stream",
          "text": [
            "Tiempo de ejecución: 0.01 segundos\n",
            "Máxima memoria ocupada: 0.22 MB\n"
          ]
        }
      ],
      "source": [
        "# ---------------- Evaluar rendimiento de busqueda informada, busqueda A* ----------------\n",
        "execution_time, memory_peak, solution, frontier, reached = evaluate_performance(problem, astar_search, heuristic_func=hanoi_heuristic)\n",
        "\n",
        "print(f\"Tiempo de ejecución: {execution_time:.2f} segundos\")\n",
        "print(f\"Máxima memoria ocupada: {memory_peak:.2f} MB\")"
      ]
    },
    {
      "cell_type": "code",
      "execution_count": 28,
      "metadata": {
        "colab": {
          "base_uri": "https://localhost:8080/"
        },
        "id": "OYVyIWU-bDEx",
        "outputId": "ebe42751-f101-4be3-bbdb-c76a34ac44a3"
      },
      "outputs": [
        {
          "name": "stdout",
          "output_type": "stream",
          "text": [
            "Tiempo de ejecución: 0.02 segundos\n",
            "Máxima memoria ocupada: 0.22 MB\n",
            "Longitud promedio del camino de la solución: 31.0\n",
            "El costo promedio de 10 repeticiones es 31.0, mientras que el costo óptimo es de 31.\n"
          ]
        }
      ],
      "source": [
        "# ---------------- Evaluar rendimiento de busqueda informada, busqueda A* ----------------\n",
        "repeats = 10\n",
        "execution_time, memory_peak, average_cost, solution, frontier, reached = evaluate_performance_with_repeats(\n",
        "  problem, astar_search, repeats, heuristic_func=hanoi_heuristic)\n",
        "\n",
        "print(f\"Tiempo de ejecución: {execution_time:.2f} segundos\")\n",
        "print(f\"Máxima memoria ocupada: {memory_peak:.2f} MB\")\n",
        "if average_cost is not None:\n",
        "  print(f\"Longitud promedio del camino de la solución: {average_cost}\")\n",
        "else:\n",
        "  print(\"No se encontraron soluciones en las repeticiones.\")\n",
        "print(f\"El costo promedio de {repeats} repeticiones es {average_cost}, mientras que el costo óptimo es de {2**(ndisks)-1}.\")"
      ]
    },
    {
      "cell_type": "code",
      "execution_count": 29,
      "metadata": {
        "colab": {
          "base_uri": "https://localhost:8080/"
        },
        "id": "9uMwCdZlEuC4",
        "outputId": "47682eea-48b5-4d61-a38a-a70f28bacac7"
      },
      "outputs": [
        {
          "name": "stdout",
          "output_type": "stream",
          "text": [
            "None\n",
            "HanoiState: 5 4 3 2 1 |  | \n",
            "Move disk 1 from 1 to 3\n",
            "HanoiState: 5 4 3 2 |  | 1\n",
            "Move disk 2 from 1 to 2\n",
            "HanoiState: 5 4 3 | 2 | 1\n",
            "Move disk 1 from 3 to 2\n",
            "HanoiState: 5 4 3 | 2 1 | \n",
            "Move disk 3 from 1 to 3\n",
            "HanoiState: 5 4 | 2 1 | 3\n",
            "Move disk 1 from 2 to 1\n",
            "HanoiState: 5 4 1 | 2 | 3\n",
            "Move disk 2 from 2 to 3\n",
            "HanoiState: 5 4 1 |  | 3 2\n",
            "Move disk 1 from 1 to 3\n",
            "HanoiState: 5 4 |  | 3 2 1\n",
            "Move disk 4 from 1 to 2\n",
            "HanoiState: 5 | 4 | 3 2 1\n",
            "Move disk 1 from 3 to 2\n",
            "HanoiState: 5 | 4 1 | 3 2\n",
            "Move disk 2 from 3 to 1\n",
            "HanoiState: 5 2 | 4 1 | 3\n",
            "Move disk 1 from 2 to 1\n",
            "HanoiState: 5 2 1 | 4 | 3\n",
            "Move disk 3 from 3 to 2\n",
            "HanoiState: 5 2 1 | 4 3 | \n",
            "Move disk 1 from 1 to 3\n",
            "HanoiState: 5 2 | 4 3 | 1\n",
            "Move disk 2 from 1 to 2\n",
            "HanoiState: 5 | 4 3 2 | 1\n",
            "Move disk 1 from 3 to 2\n",
            "HanoiState: 5 | 4 3 2 1 | \n",
            "Move disk 5 from 1 to 3\n",
            "HanoiState:  | 4 3 2 1 | 5\n",
            "Move disk 1 from 2 to 1\n",
            "HanoiState: 1 | 4 3 2 | 5\n",
            "Move disk 2 from 2 to 3\n",
            "HanoiState: 1 | 4 3 | 5 2\n",
            "Move disk 1 from 1 to 3\n",
            "HanoiState:  | 4 3 | 5 2 1\n",
            "Move disk 3 from 2 to 1\n",
            "HanoiState: 3 | 4 | 5 2 1\n",
            "Move disk 1 from 3 to 2\n",
            "HanoiState: 3 | 4 1 | 5 2\n",
            "Move disk 2 from 3 to 1\n",
            "HanoiState: 3 2 | 4 1 | 5\n",
            "Move disk 1 from 2 to 1\n",
            "HanoiState: 3 2 1 | 4 | 5\n",
            "Move disk 4 from 2 to 3\n",
            "HanoiState: 3 2 1 |  | 5 4\n",
            "Move disk 1 from 1 to 3\n",
            "HanoiState: 3 2 |  | 5 4 1\n",
            "Move disk 2 from 1 to 2\n",
            "HanoiState: 3 | 2 | 5 4 1\n",
            "Move disk 1 from 3 to 2\n",
            "HanoiState: 3 | 2 1 | 5 4\n",
            "Move disk 3 from 1 to 3\n",
            "HanoiState:  | 2 1 | 5 4 3\n",
            "Move disk 1 from 2 to 1\n",
            "HanoiState: 1 | 2 | 5 4 3\n",
            "Move disk 2 from 2 to 3\n",
            "HanoiState: 1 |  | 5 4 3 2\n",
            "Move disk 1 from 1 to 3\n",
            "HanoiState:  |  | 5 4 3 2 1\n"
          ]
        }
      ],
      "source": [
        "# ---------------- Imprimo la solucion de A* ----------------\n",
        "print_solution(solution)"
      ]
    }
  ],
  "metadata": {
    "colab": {
      "provenance": []
    },
    "kernelspec": {
      "display_name": "Python 3",
      "name": "python3"
    },
    "language_info": {
      "codemirror_mode": {
        "name": "ipython",
        "version": 3
      },
      "file_extension": ".py",
      "mimetype": "text/x-python",
      "name": "python",
      "nbconvert_exporter": "python",
      "pygments_lexer": "ipython3",
      "version": "3.10.6"
    }
  },
  "nbformat": 4,
  "nbformat_minor": 0
}
