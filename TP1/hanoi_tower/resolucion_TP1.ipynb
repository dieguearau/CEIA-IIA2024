{
 "cells": [
  {
   "cell_type": "markdown",
   "metadata": {},
   "source": [
    "### Resolución TP1"
   ]
  },
  {
   "cell_type": "markdown",
   "metadata": {},
   "source": [
    "#### 4. Implemente algún método de búsqueda. Puedes elegir cualquiera menos búsqueda en anchura primero (el desarrollado en clase). Sos libre de elegir cualquiera de los vistos en clases, o inclusive buscar nuevos."
   ]
  },
  {
   "cell_type": "code",
   "execution_count": 1,
   "metadata": {},
   "outputs": [],
   "source": [
    "# Paquetes necesarios\n",
    "from hanoi_states import StatesHanoi    # Para definir los estados\n",
    "from hanoi_states import ProblemHanoi   # Para definir el problema: Estado inicial --> Estado final\n",
    "from tree_hanoi import NodeHanoi        # Para poder expandir los nodos\n",
    "from collections import deque           # Para utilizar deque y agregar | quitar elementos de forma rápida\n",
    "import tracemalloc                      # Para ver demanda de memoria"
   ]
  },
  {
   "cell_type": "markdown",
   "metadata": {},
   "source": [
    "#### BFS - Búsqueda primero en anchura (explorando todo los nodos)"
   ]
  },
  {
   "cell_type": "code",
   "execution_count": 2,
   "metadata": {},
   "outputs": [
    {
     "name": "stdout",
     "output_type": "stream",
     "text": [
      "Encontramos la solución\n",
      "Cantidad de movimientos: 7.0\n"
     ]
    }
   ],
   "source": [
    "        # ----------------Input Discos  ----------------\n",
    "\n",
    "        # Hay que hacerlo como mucho para 3 discos, por tiempos de ejecución...\n",
    "        ndisks = 3\n",
    "\n",
    "        # ----------------Problema de Hanoi ----------------\n",
    "\n",
    "        initial_state = StatesHanoi(list(range(ndisks, 0, -1)), [], [], max_disks=ndisks)\n",
    "        goal_state = StatesHanoi([], [], list(range(ndisks, 0, -1)), max_disks=ndisks)\n",
    "\n",
    "        # Se define el problema : ir de estado inicial al final y movimientos entre estados\n",
    "        problem = ProblemHanoi(initial= initial_state, goal = goal_state)\n",
    "\n",
    "# Se define la raíz del árbol para probar los algoritmos de búsqueda\n",
    "root = NodeHanoi(state=initial_state)\n",
    "\n",
    "\n",
    "#---------------- Algoritmo de búsqueda ----------------\n",
    "\n",
    "frontier = [NodeHanoi(problem.initial)]  # Creamos una cola FIFO con el nodo inicial\n",
    "\n",
    "# Mientras que la cola no este vacia\n",
    "while len(frontier) != 0:\n",
    "    node = frontier.pop()  # Extraemos el primer nodo de la cola\n",
    "    if problem.goal_test(node.state):  # Comprobamos si hemos alcanzado el estado objetivo\n",
    "        last_node = node\n",
    "        print(\"Encontramos la solución\")\n",
    "        break\n",
    "    \n",
    "    # Agregamos a la cola todos los nodos sucesores del nodo actual\n",
    "    for next_node in node.expand(problem):\n",
    "        frontier.insert(0, next_node)\n",
    "\n",
    "print(f'Cantidad de movimientos: {last_node.state.accumulated_cost}')"
   ]
  },
  {
   "cell_type": "code",
   "execution_count": 49,
   "metadata": {},
   "outputs": [
    {
     "name": "stdout",
     "output_type": "stream",
     "text": [
      "55.2 ms ± 4.22 ms per loop (mean ± std. dev. of 10 runs, 1 loop each)\n"
     ]
    }
   ],
   "source": [
    "%%timeit -r 10 -n 1\n",
    "\n",
    "# ---------------- Tiempos de ejecución ----------------\n",
    "\n",
    "frontier = [NodeHanoi(problem.initial)]  # Creamos una cola FIFO con el nodo inicial\n",
    "\n",
    "# Mientras que la cola no este vacia\n",
    "while len(frontier) != 0:\n",
    "    node = frontier.pop()  # Extraemos el primer nodo de la cola\n",
    "    if problem.goal_test(node.state):  # Comprobamos si hemos alcanzado el estado objetivo\n",
    "        last_node = node\n",
    "        break\n",
    "    \n",
    "    # Agregamos a la cola todos los nodos sucesores del nodo actual\n",
    "    for next_node in node.expand(problem):\n",
    "        frontier.insert(0, next_node)\n"
   ]
  },
  {
   "cell_type": "code",
   "execution_count": 5,
   "metadata": {},
   "outputs": [
    {
     "name": "stdout",
     "output_type": "stream",
     "text": [
      "Maxima memoria ocupada: 4.58 [MB]\n"
     ]
    }
   ],
   "source": [
    "# ---------------- Memoria Consumida ----------------\n",
    "\n",
    "tracemalloc.start()\n",
    "\n",
    "frontier = [NodeHanoi(problem.initial)]  # Creamos una cola FIFO con el nodo inicial\n",
    "\n",
    "# Mientras que la cola no este vacia\n",
    "while len(frontier) != 0:\n",
    "    node = frontier.pop()  # Extraemos el primer nodo de la cola\n",
    "    if problem.goal_test(node.state):  # Comprobamos si hemos alcanzado el estado objetivo\n",
    "        last_node = node\n",
    "        break\n",
    "    \n",
    "    # Agregamos a la cola todos los nodos sucesores del nodo actual\n",
    "    for next_node in node.expand(problem):\n",
    "        frontier.insert(0, next_node)\n",
    "\n",
    "_, memory_peak = tracemalloc.get_traced_memory()\n",
    "memory_peak /= 1024*1024\n",
    "tracemalloc.stop()\n",
    "\n",
    "print(f\"Maxima memoria ocupada: {round(memory_peak, 2)} [MB]\", )"
   ]
  },
  {
   "cell_type": "markdown",
   "metadata": {},
   "source": [
    "#### BFS - Búsqueda primero en anchura (explorando nodos únicos)"
   ]
  },
  {
   "cell_type": "code",
   "execution_count": 6,
   "metadata": {},
   "outputs": [
    {
     "name": "stdout",
     "output_type": "stream",
     "text": [
      "Encontramos la solución\n",
      "Cantidad de movimientos: 31.0\n"
     ]
    }
   ],
   "source": [
    "# ----------------Input Discos  ----------------\n",
    "\n",
    "ndisks = 5\n",
    "\n",
    "# ----------------Problema de Hanoi ----------------\n",
    "\n",
    "# Estados inicial | objetivo\n",
    "initial_state = StatesHanoi(list(range(ndisks, 0, -1)), [], [], max_disks=ndisks)\n",
    "goal_state = StatesHanoi([], [], list(range(ndisks, 0, -1)), max_disks=ndisks)\n",
    "\n",
    "# Se define el problema: ir de estado inicial al final y movimientos entre estados\n",
    "problem = ProblemHanoi(initial= initial_state, goal = goal_state)\n",
    "\n",
    "# Se define la raíz del árbol para probar los algoritmos de búsqueda\n",
    "root = NodeHanoi(state=initial_state)\n",
    "\n",
    "\n",
    "#---------------- Algoritmo de búsqueda ----------------\n",
    "\n",
    "frontier = [NodeHanoi(problem.initial)]  # Creamos una cola FIFO con el nodo inicial\n",
    "explored = set()  # Este set nos permite ver si ya exploramos un estado para evitar repetir indefinidamente\n",
    "\n",
    "# Mientras que la cola no este vacia\n",
    "while len(frontier) != 0:\n",
    "    node = frontier.pop()  # Extraemos el primer nodo de la cola\n",
    "    \n",
    "    # Agregamos nodo al set. Esto evita guardar duplicados, porque set nunca tiene elementos repetidos\n",
    "    explored.add(node.state)\n",
    "    \n",
    "    if problem.goal_test(node.state):  # Comprobamos si hemos alcanzado el estado objetivo\n",
    "        last_node = node\n",
    "        print(\"Encontramos la solución\")\n",
    "        break\n",
    "    \n",
    "    # Agregamos a la cola todos los nodos sucesores del nodo actual\n",
    "    for next_node in node.expand(problem):\n",
    "        # Solo si no fue explorado\n",
    "        if next_node.state not in explored:\n",
    "            frontier.insert(0, next_node)\n",
    "\n",
    "print(f'Cantidad de movimientos: {last_node.state.accumulated_cost}')"
   ]
  },
  {
   "cell_type": "code",
   "execution_count": 7,
   "metadata": {},
   "outputs": [
    {
     "name": "stdout",
     "output_type": "stream",
     "text": [
      "84.1 ms ± 5.26 ms per loop (mean ± std. dev. of 10 runs, 1 loop each)\n"
     ]
    }
   ],
   "source": [
    "%%timeit -r 10 -n 1\n",
    "\n",
    "# ---------------- Tiempos de ejecución ----------------\n",
    "\n",
    "frontier = [NodeHanoi(problem.initial)]  # Creamos una cola FIFO con el nodo inicial\n",
    "explored = set()  # Este set nos permite ver si ya exploramos un estado para evitar repetir indefinidamente\n",
    "\n",
    "# Mientras que la cola no este vacia\n",
    "while len(frontier) != 0:\n",
    "    node = frontier.pop()  # Extraemos el primer nodo de la cola\n",
    "    \n",
    "    # Agregamos nodo al set. Esto evita guardar duplicados, porque set nunca tiene elementos repetidos\n",
    "    explored.add(node.state)\n",
    "    \n",
    "    if problem.goal_test(node.state):  # Comprobamos si hemos alcanzado el estado objetivo\n",
    "        last_node = node\n",
    "        break\n",
    "    \n",
    "    # Agregamos a la cola todos los nodos sucesores del nodo actual\n",
    "    for next_node in node.expand(problem):\n",
    "        # Solo si no fue explorado\n",
    "        if next_node.state not in explored:\n",
    "            frontier.insert(0, next_node)"
   ]
  },
  {
   "cell_type": "code",
   "execution_count": 8,
   "metadata": {},
   "outputs": [
    {
     "name": "stdout",
     "output_type": "stream",
     "text": [
      "Maxima memoria ocupada: 1.6 [MB]\n"
     ]
    }
   ],
   "source": [
    "# ---------------- Memoria Consumida ----------------\n",
    "\n",
    "tracemalloc.start()\n",
    "\n",
    "frontier = [NodeHanoi(problem.initial)]  # Creamos una cola FIFO con el nodo inicial\n",
    "explored = set()  # Este set nos permite ver si ya exploramos un estado para evitar repetir indefinidamente\n",
    "\n",
    "# Mientras que la cola no este vacia\n",
    "while len(frontier) != 0:\n",
    "    node = frontier.pop()  # Extraemos el primer nodo de la cola\n",
    "    \n",
    "    # Agregamos nodo al set. Esto evita guardar duplicados, porque set nunca tiene elementos repetidos\n",
    "    explored.add(node.state)\n",
    "    \n",
    "    if problem.goal_test(node.state):  # Comprobamos si hemos alcanzado el estado objetivo\n",
    "        last_node = node\n",
    "        break\n",
    "    \n",
    "    # Agregamos a la cola todos los nodos sucesores del nodo actual\n",
    "    for next_node in node.expand(problem):\n",
    "        # Solo si no fue explorado\n",
    "        if next_node.state not in explored:\n",
    "            frontier.insert(0, next_node)\n",
    "\n",
    "_, memory_peak = tracemalloc.get_traced_memory()\n",
    "memory_peak /= 1024*1024\n",
    "tracemalloc.stop()\n",
    "\n",
    "print(f\"Maxima memoria ocupada: {round(memory_peak, 2)} [MB]\", )"
   ]
  },
  {
   "cell_type": "markdown",
   "metadata": {},
   "source": [
    "#### DFS - Búsqueda primero en profundidad (explorando nodos únicos)"
   ]
  },
  {
   "cell_type": "code",
   "execution_count": 9,
   "metadata": {},
   "outputs": [
    {
     "name": "stdout",
     "output_type": "stream",
     "text": [
      "Encontramos la solución\n",
      "Cantidad de movimientos: 121.0\n"
     ]
    }
   ],
   "source": [
    "# ----------------Input Discos  ----------------\n",
    "\n",
    "ndisks = 5\n",
    "\n",
    "# ----------------Problema de Hanoi ----------------\n",
    "\n",
    "# Estados inicial | objetivo\n",
    "initial_state = StatesHanoi(list(range(ndisks, 0, -1)), [], [], max_disks=ndisks)\n",
    "goal_state = StatesHanoi([], [], list(range(ndisks, 0, -1)), max_disks=ndisks)\n",
    "\n",
    "# Se define el problema: ir de estado inicial al final y movimientos entre estados\n",
    "problem = ProblemHanoi(initial= initial_state, goal = goal_state)\n",
    "\n",
    "# Se define la raíz del árbol para probar los algoritmos de búsqueda\n",
    "root = NodeHanoi(state=initial_state)\n",
    "\n",
    "\n",
    "#---------------- Algoritmo de búsqueda ----------------\n",
    "\n",
    "frontier = [NodeHanoi(problem.initial)]  # Creamos una cola FIFO con el nodo inicial\n",
    "explored = set()  # Este set nos permite ver si ya exploramos un estado para evitar repetir indefinidamente\n",
    "\n",
    "# Mientras que la cola no este vacia\n",
    "while len(frontier) != 0:\n",
    "    node = frontier.pop()  # Extraemos el primer nodo de la cola\n",
    "    \n",
    "    # Agregamos nodo al set. Esto evita guardar duplicados, porque set nunca tiene elementos repetidos\n",
    "    explored.add(node.state)\n",
    "    \n",
    "    if problem.goal_test(node.state):  # Comprobamos si hemos alcanzado el estado objetivo\n",
    "        last_node = node\n",
    "        print(\"Encontramos la solución\")\n",
    "        break\n",
    "    \n",
    "    # Agregamos a la cola todos los nodos sucesores del nodo actual\n",
    "    for next_node in node.expand(problem):\n",
    "        # Solo si no fue explorado\n",
    "        if next_node.state not in explored:\n",
    "            frontier.append(next_node)\n",
    "\n",
    "print(f'Cantidad de movimientos: {last_node.state.accumulated_cost}')"
   ]
  },
  {
   "cell_type": "code",
   "execution_count": 10,
   "metadata": {},
   "outputs": [
    {
     "name": "stdout",
     "output_type": "stream",
     "text": [
      "7.72 ms ± 1.21 ms per loop (mean ± std. dev. of 10 runs, 1 loop each)\n"
     ]
    }
   ],
   "source": [
    "%%timeit -r 10 -n 1\n",
    "\n",
    "# ---------------- Tiempos de ejecución ----------------\n",
    "\n",
    "frontier = [NodeHanoi(problem.initial)]  # Creamos una cola FIFO con el nodo inicial\n",
    "explored = set()  # Este set nos permite ver si ya exploramos un estado para evitar repetir indefinidamente\n",
    "\n",
    "# Mientras que la cola no este vacia\n",
    "while len(frontier) != 0:\n",
    "    node = frontier.pop()  # Extraemos el primer nodo de la cola\n",
    "    \n",
    "    # Agregamos nodo al set. Esto evita guardar duplicados, porque set nunca tiene elementos repetidos\n",
    "    explored.add(node.state)\n",
    "    \n",
    "    if problem.goal_test(node.state):  # Comprobamos si hemos alcanzado el estado objetivo\n",
    "        last_node = node\n",
    "        break\n",
    "    \n",
    "    # Agregamos a la cola todos los nodos sucesores del nodo actual\n",
    "    for next_node in node.expand(problem):\n",
    "        # Solo si no fue explorado\n",
    "        if next_node.state not in explored:\n",
    "            frontier.append(next_node)"
   ]
  },
  {
   "cell_type": "code",
   "execution_count": 11,
   "metadata": {},
   "outputs": [
    {
     "name": "stdout",
     "output_type": "stream",
     "text": [
      "Maxima memoria ocupada: 0.25 [MB]\n"
     ]
    }
   ],
   "source": [
    "# ---------------- Memoria Consumida ----------------\n",
    "\n",
    "tracemalloc.start()\n",
    "\n",
    "frontier = [NodeHanoi(problem.initial)]  # Creamos una cola FIFO con el nodo inicial\n",
    "explored = set()  # Este set nos permite ver si ya exploramos un estado para evitar repetir indefinidamente\n",
    "\n",
    "# Mientras que la cola no este vacia\n",
    "while len(frontier) != 0:\n",
    "    node = frontier.pop()  # Extraemos el primer nodo de la cola\n",
    "    \n",
    "    # Agregamos nodo al set. Esto evita guardar duplicados, porque set nunca tiene elementos repetidos\n",
    "    explored.add(node.state)\n",
    "    \n",
    "    if problem.goal_test(node.state):  # Comprobamos si hemos alcanzado el estado objetivo\n",
    "        last_node = node\n",
    "        break\n",
    "    \n",
    "    # Agregamos a la cola todos los nodos sucesores del nodo actual\n",
    "    for next_node in node.expand(problem):\n",
    "        # Solo si no fue explorado\n",
    "        if next_node.state not in explored:\n",
    "            frontier.append(next_node)\n",
    "\n",
    "_, memory_peak = tracemalloc.get_traced_memory()\n",
    "memory_peak /= 1024*1024\n",
    "tracemalloc.stop()\n",
    "\n",
    "print(f\"Maxima memoria ocupada: {round(memory_peak, 2)} [MB]\", )"
   ]
  },
  {
   "cell_type": "markdown",
   "metadata": {},
   "source": [
    "#### DLS - Búsqueda de profundidad limitada (explorando nodos únicos)  "
   ]
  },
  {
   "cell_type": "code",
   "execution_count": 21,
   "metadata": {},
   "outputs": [
    {
     "name": "stdout",
     "output_type": "stream",
     "text": [
      "Cantidad de movimientos: 121.0\n"
     ]
    }
   ],
   "source": [
    "# ----------------Input Discos  ----------------\n",
    "\n",
    "ndisks = 5\n",
    "reached = 2 # cantidad de niveles hasta donde explorar\n",
    "\n",
    "# ----------------Problema de Hanoi ----------------\n",
    "\n",
    "# Estados inicial | objetivo\n",
    "initial_state = StatesHanoi(list(range(ndisks, 0, -1)), [], [], max_disks=ndisks)\n",
    "goal_state = StatesHanoi([], [], list(range(ndisks, 0, -1)), max_disks=ndisks)\n",
    "\n",
    "# Se define el problema: ir de estado inicial al final y movimientos entre estados\n",
    "problem = ProblemHanoi(initial= initial_state, goal = goal_state)\n",
    "\n",
    "# Se define la raíz del árbol para probar los algoritmos de búsqueda\n",
    "root = NodeHanoi(state=initial_state)\n",
    "\n",
    "\n",
    "#---------------- Algoritmo de búsqueda ----------------\n",
    "\n",
    "\n",
    "frontier = [NodeHanoi(problem.initial)]  \n",
    "explored = set()  # Uso de set para evitar repetir estados\n",
    "\n",
    "# Mientras que la cola no este vacia\n",
    "while len(frontier) != 0:\n",
    "    node = frontier.pop()  # Extraemos el primer nodo de la cola\n",
    "    \n",
    "    # Agregamos nodo al set. Esto evita guardar duplicados, porque set nunca tiene elementos repetidos\n",
    "    explored.add(node.state)\n",
    "    \n",
    "    if problem.goal_test(node.state):  # Comprobamos si hemos alcanzado el estado objetivo\n",
    "        last_node = node\n",
    "        print(\"Encontramos la solución\")\n",
    "        break\n",
    "    \n",
    "    # Agregamos a la cola todos los nodos sucesores del nodo actual\n",
    "    if node.depth < reached:\n",
    "        for next_node in node.expand(problem):\n",
    "            # Solo si no fue explorado\n",
    "            if next_node.state not in explored:\n",
    "                frontier.append(next_node)\n",
    "\n",
    "if last_node:\n",
    "    print(f'Cantidad de movimientos: {last_node.state.accumulated_cost}')\n",
    "else:\n",
    "    print(f'No se encontró solución hasta este nivel.')"
   ]
  },
  {
   "cell_type": "markdown",
   "metadata": {},
   "source": [
    "#### Eficiencia Algoritmos "
   ]
  },
  {
   "cell_type": "markdown",
   "metadata": {},
   "source": [
    "| Algoritmo        | Discos | Movimientos | Tiempo prom. ejecución | Memoria consumida |\n",
    "|------------------|:------:|:-----------:|:----------------------:|:-----------------:|\n",
    "| BFS (All)        | 3 (*)  | 7           | 55.2 ms ± 4.22 ms      | 4.58MB            |\n",
    "| BFS (Unique)     | 5      | 31          | 84.1 ms ± 5.26 ms      | 1.6MB             |\n",
    "| DFS              | 5      | 121         | 7.72 ms ± 1.21 ms      | 0.25MB            |\n",
    "| Profundidad lim. | 5      | 19          | 3.0s                   | 148MB             |\n",
    "\n",
    "(*) Se utilizaron únicamente 3 discos por tiempos de ejecución."
   ]
  }
 ],
 "metadata": {
  "kernelspec": {
   "display_name": "Python 3",
   "language": "python",
   "name": "python3"
  },
  "language_info": {
   "codemirror_mode": {
    "name": "ipython",
    "version": 3
   },
   "file_extension": ".py",
   "mimetype": "text/x-python",
   "name": "python",
   "nbconvert_exporter": "python",
   "pygments_lexer": "ipython3",
   "version": "3.10.6"
  }
 },
 "nbformat": 4,
 "nbformat_minor": 2
}
